{
 "cells": [
  {
   "cell_type": "markdown",
   "metadata": {},
   "source": [
    "# Act Report # \n",
    "–––––––––––––––––––––––––––––––––––––––––––––––––––––––––––––––––––––––––––––––––––––––––––––––––––––––––––––––––––   \n",
    "**by Jerry Yip**"
   ]
  },
  {
   "cell_type": "markdown",
   "metadata": {},
   "source": [
    "## Introduction ##\n",
    "This report covers insights gained from analyzing Udacity's provided WeRateDogs twitter archive data and supplementary dog breed prediction information in addition to the retweet and favorite counts data retrieved from Twitter's API.  This data set was gathered, assessed and cleaned for analysis, for which I'll subsequently refer to it as simply the 'WeRateDogs twitter data in this analysis report.  \n",
    "\n",
    "## Exploratory Questions ##\n",
    "In reviewing the WeRateDogs twitter data, I was interested in exploring the following questions:\n",
    "\n",
    "**General Factors**\n",
    "* Given the different metadata regarding the tweets (e.g. metrics on retweet and favorite count etc.), were there any variables that have a positive or negative correlation to one another?\n",
    "\n",
    "**Influence of Dog Breed**\n",
    "* What was the distribution of dog breeds?\n",
    "* Which dog breeds got the highest ratings?\n",
    "* Which dog breeds got the most retweets and favorites?\n",
    "\n",
    "**Influence of Dog Stage**\n",
    "* What was the distribution of dog stage?\n",
    "* Which dog stage got the highest ratings?\n",
    "* Which dog stage got the most retweets and favorites?\n",
    "\n",
    "**Influence of Tweet Source**\n",
    "* What was the distribution of sources for tweets? (which source has the most tweets?)\n",
    "\n",
    "**Influence of Time and Day**\n",
    "* Were there certain times of the day and days of the week that posting a tweet would get more retweets and favorites?"
   ]
  },
  {
   "cell_type": "markdown",
   "metadata": {},
   "source": [
    "## Findings ##\n",
    "**General Factors**  \n",
    "In terms of general factors, I observed there was a positive correlation between the retweet_count and the favorite count, which makes sense given the more retweets a tweet has, the more opportunities for people to view and favorite the original tweet. This is as illustrated in the following scatter plot:"
   ]
  },
  {
   "cell_type": "markdown",
   "metadata": {},
   "source": [
    "![alt text](favorite%20vs%20retweet%20count.png \"Favorite vs Retweet Count\")"
   ]
  },
  {
   "cell_type": "markdown",
   "metadata": {},
   "source": [
    "Separately, there also appeared to be a slighltly positive correlation both between rating numerator and retweet count as well as rating numerator and favorite count which makes intuitive sense.  Given the correlation was weak, however, I've ommitted the visual but wanted to mention the observation as it will guide some of the subsequent analysis and findings."
   ]
  },
  {
   "cell_type": "markdown",
   "metadata": {},
   "source": [
    "**Influence of Dog Breed**  \n",
    "Udacity fed the tweeted dog images into a neural network to predict the dog breeds, from which I then analyzed that the top 10 tweeted dog breeds from greatest to least volume of tweets were as follows: Golden Retriever, Labrador Retriever, Pembroke, Chihuahua, Pug, Chow, Samoyed, Pomeranian, Toy Poodle, Malamute.  \n",
    "A pie chart show the distribution of dog breeds is provided below.  Note, the dog breed predictions were not always accurate and the below only shows tweeted dog breeds that had at least 5 or more tweets:"
   ]
  },
  {
   "cell_type": "markdown",
   "metadata": {},
   "source": [
    "![alt text](dog%20breed%20distribution.png \"dog breed distribution\")"
   ]
  },
  {
   "cell_type": "markdown",
   "metadata": {},
   "source": [
    "In terms of which dog breeds resulted in the highest (and lowest) average user ratings, favorites and retweets, the below charts illustrate my findings.  \n",
    "Of note, I observed that the following 3 dog breeds  showed up in all three top ten lists for the highest ratings, favorite and retweet counts: \n",
    "* Eskimo Dogs\n",
    "* Cardigans\n",
    "* Great Pyrenees\n",
    "\n",
    "So if you're looking for your pet to become a social influencer on Twitter, one of the above 3 breeds would be ideal!  \n",
    "  \n",
    "Conversely, the following 3 dog breeds showed up in all three bottom ten lists for average user ratings, favorite and retweet counts:  \n",
    "* Soft-coated Wheaten Terrier\n",
    "* Maltese dog\n",
    "* Miniature Poodle  \n",
    "\n",
    "In particular, the Soft-coated Wheaten Terrier was the lowest in all three categories -- no love for the Soft-coated Wheaten Terrier!  Joking aside, it should be noted that these breeds didn't have a large sample size (each had less than 20 tweets and 2 of the breeds less than 10) so perhaps this is not a true representation of their popularity in the real world."
   ]
  },
  {
   "cell_type": "markdown",
   "metadata": {},
   "source": [
    "![alt text](avg_rating_by_dog_breed.png \"avg rating by dog breed\")"
   ]
  },
  {
   "cell_type": "markdown",
   "metadata": {},
   "source": [
    "![alt text](avg_fav_count_by_dog_breed.png \"avg favorite count by dog breed\")"
   ]
  },
  {
   "cell_type": "markdown",
   "metadata": {},
   "source": [
    "![alt text](avg_retweet_count_by_dog_breed.png \"avg retweet count by dog breed\")"
   ]
  },
  {
   "cell_type": "markdown",
   "metadata": {},
   "source": [
    "**Influence of Dog Stage**  \n",
    "The WeRateDogs twitter page also allows for users to post the stage of their dogs according to the following \"dogtionary\":\n",
    "![alt text](dogtionary-combined.png \"dogtionary\")\n",
    "\n",
    "Unfortunately only a small portion (~15.5%) of all tweets included the dog stage - it appears not enough users are educated in the dogtionary or are otherwise not motivated enough to include such information.  Nevertheless, using the available information we were able to make the following observations.  Tweets by dog stage were distributed as per the pie chart below, with the majority (~69%) of such tweets being for 'puppers', followed by 'doggos' (~21%) afterwhich came 'puppos'(~7.5%) and lastly floofers (~2.4%).  Note, for clarity I've excluded the few instances in which a dog was identified as in between stages (i.e. doggopupper, doggopuppo and doggofloofer).  Given the small sample size, it might be best to take these observations with a grain of salt.\n",
    "\n",
    "![alt text](distr_dogs_by_stage.png 'dog stage distrib')\n",
    "\n"
   ]
  },
  {
   "cell_type": "markdown",
   "metadata": {},
   "source": [
    "As far as the dog stages with the highest average ratings, average retweet and favorite counts, those observations are as illustrated in the charts below.  Again, given the sample size I'm avoiding inferring to much from this analysis.  \n",
    "That said, will simply note that the puppo dog stage consistently ranks in the top 2 as far as average rating, favorite count and retweet count whereas the pupper dog stage consistently ranks at the bottom as far as average rating, favorite count and retweet count -- this could be attributed to the fact that pupper stage has the largest sample size and hence the scores are averaged out better.  Hence, this is more an observation of the completeness of the data as far as identifying dog stages than of which dog stages are more popular in terms of these metrics."
   ]
  },
  {
   "cell_type": "markdown",
   "metadata": {},
   "source": [
    "![alt text](avg_rating_by_dog_stage.png)"
   ]
  },
  {
   "cell_type": "markdown",
   "metadata": {},
   "source": [
    "![alt text](fav_count_by_dog_stage.png)"
   ]
  },
  {
   "cell_type": "markdown",
   "metadata": {},
   "source": [
    "![alt text](retweet_count_by_dog_stage.png)"
   ]
  },
  {
   "cell_type": "markdown",
   "metadata": {},
   "source": [
    "**Influence of Tweet Source**\n",
    "Tweets sourced from Iphones made up the vast majority of tweets (98.1%), with the remainder coming from Twitter's web client (1.4%) and only .46% coming from Twitter's TweetDeck.  This is as illustrated in the pie chart below"
   ]
  },
  {
   "cell_type": "markdown",
   "metadata": {},
   "source": [
    "\n",
    "* Did certain sources get more retweets and favorites on average?\n"
   ]
  },
  {
   "cell_type": "markdown",
   "metadata": {},
   "source": [
    "![alt text](distr_tweet_sources.png)"
   ]
  },
  {
   "cell_type": "markdown",
   "metadata": {},
   "source": [
    "**Influence of Time and Day**\n",
    "As illustrated below, it appears that the earlier in the day a post is tweeted, the higher the average ratings, retweets and favorite counts.   This makes sense especially for retweet and favorite counts, as it gives more opportunity for people to view your tweet throughout the day.  So in this case, the early bird really does get the worm!   \n",
    "The irony however, is that the distribution for which tweets are actually posted are in reverse with the majority of tweets (57%) happening latest in the evening (twilight) and the least tweets occuring in the morning (~.15%), then afternoon (22%) etc.  This is likely because people are too busy working during the day to tweet (although not busy enough to view other people's tweets)."
   ]
  },
  {
   "cell_type": "markdown",
   "metadata": {},
   "source": [
    "![alt text](avg_rating_time_of_day.png)"
   ]
  },
  {
   "cell_type": "markdown",
   "metadata": {},
   "source": [
    "![alt text](avg_fav_cnt_time_day.png)"
   ]
  },
  {
   "cell_type": "markdown",
   "metadata": {},
   "source": [
    "![alt text](avg_retweet_count_time_day.png)"
   ]
  },
  {
   "cell_type": "markdown",
   "metadata": {},
   "source": [
    "![alt text](distr_tweets_time_day.png)"
   ]
  },
  {
   "cell_type": "markdown",
   "metadata": {},
   "source": [
    "### Summary###\n",
    "In reviewing the We Rate Dogs Twitter data, my analysis suggests that if your aim is to have your pet become a twitter social media influencer, my recommendations would be as follows:  \n",
    "1. Get one of the following dog breeds: Eskimo Dogs, Cardigans or Great Pyrenees  \n",
    "2. Post early in the morning\n",
    "3. Make sure you maximize your posts when your dog is in the 'pupper' stage of his/her life.\n",
    "\n",
    "The steps above should yield the most positive response from twitter users including higher retweet and favorite counts."
   ]
  }
 ],
 "metadata": {
  "kernelspec": {
   "display_name": "Python 3",
   "language": "python",
   "name": "python3"
  },
  "language_info": {
   "codemirror_mode": {
    "name": "ipython",
    "version": 3
   },
   "file_extension": ".py",
   "mimetype": "text/x-python",
   "name": "python",
   "nbconvert_exporter": "python",
   "pygments_lexer": "ipython3",
   "version": "3.6.3"
  }
 },
 "nbformat": 4,
 "nbformat_minor": 2
}
